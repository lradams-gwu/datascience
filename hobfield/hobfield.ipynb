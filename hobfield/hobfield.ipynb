{
 "cells": [
  {
   "cell_type": "markdown",
   "metadata": {},
   "source": [
    "# Hopfield training of image memories\n",
    "\n",
    "## Leon Adams \n",
    "\n",
    "Python Module for running a hopfield network to relocate the memory from a perturbed image.\n",
    "The raw data set is represented in png image format. This code takes the three color channels (rgb)\n",
    "Converts to a single channel gray scaled image and then transforms the output to a [-1,1] vector\n",
    "for use in calculation of a hobfield neural network.\n",
    "\n",
    "## Dependencies: \n",
    "numpy; matplotlib\n",
    " \n",
    "### Usage\n",
    "Can use as normal python module or can be used as a python script.\n",
    "When calling from command line as script supply corruption percent at end of call\n",
    "\n",
    "Example: python hopfield.py 2 3 4\n",
    "This will produced 2, 3, and 4 percent perturbation on the image file and then\n",
    "attempt to locate closest memorized pattern using hopfield network with hebb learning rule.\n",
    "If called without perturbation parameters default to [1, 5, 10, 15, 20, 25] corruption percentages.\n",
    "\n",
    "Output: output of the execution is a series of images showing first the perturbed\n",
    "image with the corrupted percentages in the title. Then we show the closest memorized\n",
    "image found from the hobfield network."
   ]
  },
  {
   "cell_type": "code",
   "execution_count": 2,
   "metadata": {
    "collapsed": false
   },
   "outputs": [],
   "source": [
    "# begin import needed libraries\n",
    "import sys\n",
    "import numpy as np\n",
    "import matplotlib.pyplot as plt\n",
    "import matplotlib.image as mpimg\n",
    "# end import libraries"
   ]
  },
  {
   "cell_type": "code",
   "execution_count": 3,
   "metadata": {
    "collapsed": true
   },
   "outputs": [],
   "source": [
    "#%matplotlib inline "
   ]
  },
  {
   "cell_type": "markdown",
   "metadata": {},
   "source": [
    "## Helper functions for transforming rgb image data."
   ]
  },
  {
   "cell_type": "code",
   "execution_count": 4,
   "metadata": {
    "collapsed": true
   },
   "outputs": [],
   "source": [
    "def rgb_to_gray_array(rgb):\n",
    "    '''\n",
    "    Helper function to convert from rgb tensor to matrix gray-scaled image representation.\n",
    "    Input: rgb tensor matrix of the three rgb color channels.\n",
    "    output: numpy array of gray-scaled numeric values.\n",
    "    '''\n",
    "    return np.dot(rgb[...,:3], np.array([0.299, 0.587, 0.114]))    \n",
    "\n",
    "def read_images(filenames):\n",
    "    '''\n",
    "    Read images to set to memory. Convert from rgb tensor to gray scale representation.\n",
    "    Takes a list of filenames in directory containing pixel images. Returns a list\n",
    "    of numpy arrays converted to gray-scale.\n",
    "    '''\n",
    "    data = [( mpimg.imread(number) ) for number in filenames]\n",
    "    return data, data[0].shape\n",
    "\n",
    "def create_vector_image(data_array):\n",
    "    ''' \n",
    "    Converts a gray-scaled image to [-1, +1] vector representation for hopfield networks.    \n",
    "    '''\n",
    "    data_array = np.where(data_array < 0.99, -1, 1)\n",
    "    return data_array.flatten()\n",
    "    \n",
    "def print_unique_cnts(array):\n",
    "    print( np.unique(array, return_counts=True ) )"
   ]
  },
  {
   "cell_type": "markdown",
   "metadata": {},
   "source": [
    "## Training of hopfield network with hebb learning rule"
   ]
  },
  {
   "cell_type": "code",
   "execution_count": 4,
   "metadata": {
    "collapsed": true
   },
   "outputs": [],
   "source": [
    "def train(memories):\n",
    "    '''\n",
    "    Training function for hobfield neural network. Trained with Hebb update rule.\n",
    "    '''\n",
    "    rate, c = memories.shape\n",
    "    Weight = np.zeros((c, c))\n",
    "    for p in memories:\n",
    "        Weight = Weight + np.outer(p,p)\n",
    "        \n",
    "    Weight[np.diag_indices(c)] = 0\n",
    "    return Weight/rate"
   ]
  },
  {
   "cell_type": "code",
   "execution_count": 5,
   "metadata": {
    "collapsed": true
   },
   "outputs": [],
   "source": [
    "def look_up(Weight_matrix, candidate_pattern, shape, percent_corrupted, steps=5):\n",
    "    '''\n",
    "    Given a candidate pattern, lookup closet memorized stable state. Return the\n",
    "    stable memorized state.\n",
    "    '''\n",
    "    sgn = np.vectorize(lambda x: -1 if x<0 else 1)\n",
    "    \n",
    "    img = None\n",
    "    for i in range(steps):\n",
    "        im = show_pattern(candidate_pattern, shape) \n",
    "        candidate_pattern = sgn(np.dot(candidate_pattern, Weight_matrix))\n",
    "        if img is None:\n",
    "            img = plt.imshow(im, cmap=plt.cm.binary, interpolation='nearest')\n",
    "            plt.title(str(percent_corrupted) + ' percent corrupted pixels')\n",
    "        else:\n",
    "            img.set_data(im)\n",
    "        plt.pause(.2)\n",
    "        plt.draw()\n",
    "\n",
    "    return candidate_pattern"
   ]
  },
  {
   "cell_type": "code",
   "execution_count": 6,
   "metadata": {
    "collapsed": true
   },
   "outputs": [],
   "source": [
    "def hopfield_energy(Weight, patterns):\n",
    "    '''\n",
    "    Calculates the current energy value for a given pattern and weight matrix.\n",
    "    '''\n",
    "    return np.array([-0.5*np.dot(np.dot(p.T, Weight), p) for p in patterns])"
   ]
  },
  {
   "cell_type": "code",
   "execution_count": null,
   "metadata": {
    "collapsed": true
   },
   "outputs": [],
   "source": [
    "def show_pattern(pattern, shape):\n",
    "    return np.where(pattern < 0, 0, 1).reshape(shape)"
   ]
  },
  {
   "cell_type": "code",
   "execution_count": 7,
   "metadata": {
    "collapsed": true
   },
   "outputs": [],
   "source": [
    "def show_img(image, shape):\n",
    "    '''\n",
    "    Helper function to produce visualization of an image.\n",
    "    '''\n",
    "    plt.imshow(image.reshape(shape), cmap=plt.cm.binary, interpolation='nearest')\n",
    "    plt.show()"
   ]
  },
  {
   "cell_type": "code",
   "execution_count": 8,
   "metadata": {
    "collapsed": true
   },
   "outputs": [],
   "source": [
    "def corrupts(pattern, percentage):\n",
    "    '''\n",
    "    Helper function for deriving corrupted pattern images. Specify stable memory pattern\n",
    "    and the percentage of pixels to switch.\n",
    "    '''\n",
    "    \n",
    "    counts = int( 2*np.ceil( len(pattern) * percentage / 200 ) )\n",
    "    neg_mask = np.where(pattern <= 0)[0]\n",
    "    pos_mask = np.where(pattern > 0)[0]\n",
    "    \n",
    "    neg_corrupt_indices = np.random.choice(neg_mask, counts/2, replace = False)\n",
    "    pos_corrupt_indices = np.random.choice(pos_mask, counts/2, replace = False)\n",
    "    \n",
    "    corrupt_pattern = np.copy(pattern)\n",
    "    corrupt_pattern[neg_corrupt_indices] = 1\n",
    "    corrupt_pattern[pos_corrupt_indices] = -1\n",
    "    return corrupt_pattern"
   ]
  },
  {
   "cell_type": "code",
   "execution_count": 9,
   "metadata": {
    "collapsed": true
   },
   "outputs": [],
   "source": [
    "data, shape = read_images(['C.png', 'D.png', 'J.png'])\n",
    "\n",
    "stable_memories = np.array([create_vector_image(rgb_to_gray_array(array)) for array in data ])\n",
    "norm_weight_matrix = train(stable_memories)"
   ]
  },
  {
   "cell_type": "code",
   "execution_count": 10,
   "metadata": {
    "collapsed": true
   },
   "outputs": [],
   "source": [
    "stable_memories = np.array([create_vector_image(rgb_to_gray_array(array)) for array in data ])\n",
    "norm_weight_matrix = train(stable_memories)"
   ]
  },
  {
   "cell_type": "code",
   "execution_count": 11,
   "metadata": {
    "collapsed": true
   },
   "outputs": [],
   "source": [
    "def test_stable_memories(stable_memory_patterns, corrupt_perentages):\n",
    "    for memory in stable_memory_patterns:\n",
    "        for percent in corrupt_perentages:\n",
    "            crpt_memory = corrupts(memory, percent)\n",
    "            look_up(norm_weight_matrix, crpt_memory, shape[0:2], percent_corrupted = percent, steps=5)\n"
   ]
  },
  {
   "cell_type": "markdown",
   "metadata": {},
   "source": [
    "## Run the example\n",
    "\n",
    "Run the hobfield network for a variety of image perturbations. The percent of perturbations are provided as a lis"
   ]
  },
  {
   "cell_type": "code",
   "execution_count": 12,
   "metadata": {
    "collapsed": false
   },
   "outputs": [
    {
     "name": "stderr",
     "output_type": "stream",
     "text": [
      "/home/leon/opt/miniconda3/envs/sci/lib/python3.4/site-packages/matplotlib/backend_bases.py:2399: MatplotlibDeprecationWarning: Using default event loop until function specific to this GUI is implemented\n",
      "  warnings.warn(str, mplDeprecation)\n"
     ]
    }
   ],
   "source": [
    "test_stable_memories(stable_memories, [1, 5, 10, 15, 20, 25])"
   ]
  },
  {
   "cell_type": "markdown",
   "metadata": {},
   "source": [
    "## Utility for script conversion \n",
    "\n",
    "If notebook is converted to python script, the code below allows for choice execution as script or usage as python module"
   ]
  },
  {
   "cell_type": "code",
   "execution_count": null,
   "metadata": {
    "collapsed": true
   },
   "outputs": [],
   "source": [
    "if __name__ == \"__main__\":\n",
    "    user_input = sys.argv\n",
    "    \n",
    "    if len(user_input) > 1:\n",
    "        test_stable_memories(stable_memories, [float(i) for i in user_input[1:] ])\n",
    "    else:\n",
    "        test_stable_memories(stable_memories, [1, 5, 10, 15, 20, 25])"
   ]
  },
  {
   "cell_type": "code",
   "execution_count": null,
   "metadata": {
    "collapsed": true
   },
   "outputs": [],
   "source": []
  }
 ],
 "metadata": {
  "kernelspec": {
   "display_name": "Python 2",
   "language": "python",
   "name": "python2"
  },
  "language_info": {
   "codemirror_mode": {
    "name": "ipython",
    "version": 2
   },
   "file_extension": ".py",
   "mimetype": "text/x-python",
   "name": "python",
   "nbconvert_exporter": "python",
   "pygments_lexer": "ipython2",
   "version": "2.7.11"
  }
 },
 "nbformat": 4,
 "nbformat_minor": 0
}
